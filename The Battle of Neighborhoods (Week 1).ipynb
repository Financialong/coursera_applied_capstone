{
 "cells": [
  {
   "cell_type": "markdown",
   "metadata": {},
   "source": [
    "# The Japanese Restaurants Battle in Hong Kong (Week 1)\n",
    "\n",
    "##### Bryan Kwok - 2020/11/06\n",
    "\n",
    "\n",
    "\n"
   ]
  },
  {
   "cell_type": "markdown",
   "metadata": {},
   "source": [
    "## Introduction\n",
    "\n",
    "People always come up with a place in the world with various cultures and languages in a place, which is Hong Kong. Although the size of Hong Kong is relatively small to some countries in Europe, there are over 7.5 million people in 18 districts here. This is a place inherited ancient Chinese culture and experienced a period of western colonial influence. \n",
    "\n",
    "There are so many good restaurants in Hong Kong, including Chinese, Japanese, Western, etc. Many investors in the world would like to build up their reputation in Hong Kong and set up a restaurant here. However, it is never easy to survive in this battlefield without research and delicious food. Japanese restaurants will be one of the good choices for HongKongers based on its appealing dishes and fresh ingredients.\n",
    "\n",
    "In this project, we will try to investigate the neighborhoods in the districts of Hong Kong. We will also group them into different clusters by k-means clustering algorithms. By the end, we will solve the problems, and tell you the good choice of openning a japanese restaurants in Hong Kong."
   ]
  },
  {
   "cell_type": "markdown",
   "metadata": {},
   "source": [
    "## Business Problem\n",
    "\n",
    "The objective of this project is to find out the optimum place in Hong Kong to open a new japanese restaurant. For investors, it would be critical for them to know which places are important to have the new restaurants. It may be also important for them to set up a restaurant with similar dishes around the districts. Some districts may probably have more good japanese restaurants compared to the others. This may help them stand out and build the reputation. \n",
    "\n",
    "For us, it is always helpful to have more information of good japanese restaurants. This project will also provide a good insight for audience to understand the distribution of japanese restaurants in Hong Kong.\n"
   ]
  },
  {
   "cell_type": "markdown",
   "metadata": {},
   "source": [
    "### Problem Statement\n",
    "\n",
    "1. Where are the best districts for Japanese cuisine in Hong Kong? \n",
    "2. In disticts should the investor open a Japanese restaurant to have the best chance of being successful? \n",
    "3. Where can we go in Hong Kong to have the best Japanese food?"
   ]
  },
  {
   "cell_type": "markdown",
   "metadata": {},
   "source": [
    "## Data\n",
    "\n",
    "To solve the business problem, the following data is required for analysis.\n",
    "\n",
    "- The data of Hong Kong containing the districts name\n",
    "- Latitude and Longitude coordinates of those districts\n",
    "- Venue places with the information of location, name, categories\n",
    "\n"
   ]
  },
  {
   "cell_type": "markdown",
   "metadata": {},
   "source": [
    "## Methodology\n",
    "\n",
    "- Firstly, the data will be collected from _https://www.geodatos.net/en/coordinates/hong-kong_ and cleaned for the later process.\n",
    "\n",
    "- Then FourSquare will be used to locate the venues in those districts. Then the number and frequencies of restaurant types will be recorded and summarized into the dataframe.\n",
    "\n",
    "- Data will be sorted based on rankings. At the end, the data will be visually visualized by the graphics using the Python libraries."
   ]
  },
  {
   "cell_type": "code",
   "execution_count": null,
   "metadata": {},
   "outputs": [],
   "source": []
  }
 ],
 "metadata": {
  "kernelspec": {
   "display_name": "Python",
   "language": "python",
   "name": "conda-env-python-py"
  },
  "language_info": {
   "codemirror_mode": {
    "name": "ipython",
    "version": 3
   },
   "file_extension": ".py",
   "mimetype": "text/x-python",
   "name": "python",
   "nbconvert_exporter": "python",
   "pygments_lexer": "ipython3",
   "version": "3.6.11"
  }
 },
 "nbformat": 4,
 "nbformat_minor": 4
}
